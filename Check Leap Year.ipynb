{
 "cells": [
  {
   "cell_type": "markdown",
   "id": "a3b166cc",
   "metadata": {},
   "source": [
    "## [1] Checking whether a year is leap year  or not:"
   ]
  },
  {
   "cell_type": "markdown",
   "id": "c4481c23",
   "metadata": {},
   "source": [
    "### What is Leap Day and Leap Year? "
   ]
  },
  {
   "cell_type": "markdown",
   "id": "70b5e3d1",
   "metadata": {},
   "source": [
    "An extra day is added to the calendar almost every four years as February 29, and the day is called a leap day. \n",
    "\n",
    "> The year which has leap day is called Leap Year."
   ]
  },
  {
   "cell_type": "markdown",
   "id": "31f2a502",
   "metadata": {},
   "source": [
    "### What is purpose of Leap day?"
   ]
  },
  {
   "cell_type": "markdown",
   "id": "2286f3ab",
   "metadata": {},
   "source": [
    "It corrects the calendar for the fact that our planet takes approximately 365.25 days to orbit the sun.\n",
    "\n",
    "This 0.25 day becomes equivalent to 1 day in 4 years. ( 0.25 x 4 = 1)\n",
    "\n",
    "> Hence, A leap year contains a leap day.\n",
    "\n"
   ]
  },
  {
   "cell_type": "markdown",
   "id": "1b86dc53",
   "metadata": {},
   "source": [
    "### Conditions for an year to be leap year :"
   ]
  },
  {
   "cell_type": "markdown",
   "id": "ec54de24",
   "metadata": {},
   "source": [
    "In the Gregorian calendar, three conditions are used to identify leap years:\n",
    "\n",
    "•\tThe year can be evenly divided by 4, is a leap year, \n",
    "    unless:\n",
    "    \n",
    "  >\tThe year can be evenly divided by 100, it is NOT a leap year, unless:\n",
    "            \n",
    "       >  The year is also evenly divisible by 400. Then it is a leap year.\n"
   ]
  },
  {
   "cell_type": "markdown",
   "id": "bc401214",
   "metadata": {},
   "source": [
    "This means that in the Gregorian calendar, the years 2000 and 2400 are leap years, \n",
    "\n",
    "while 1800, 1900, 2100, 2200, 2300 and 2500 are NOT leap years. "
   ]
  },
  {
   "cell_type": "markdown",
   "id": "3171dbe7",
   "metadata": {},
   "source": [
    "## Program to check whether a year is leap year or not:\n"
   ]
  },
  {
   "cell_type": "code",
   "execution_count": null,
   "id": "13f44f7a",
   "metadata": {},
   "outputs": [],
   "source": [
    "# For a year to be a leap year, it has to be divisible by 4, if by 100, then must also by 400 as well.\n",
    "\n",
    "def check_year(year):\n",
    "\n",
    "    leap = False  # By default, Setting it False.\n",
    "\n",
    "    if year % 400 == 0:  # This means year is divisible by both 4 and 400\n",
    "        leap = True\n",
    "        print(\"\\n\\t\",year, \" is a leap year.\")\n",
    "        tryagain()\n",
    "\n",
    "    elif year % 100 == 0:  # This means year is divisible by only 100\n",
    "        leap = False\n",
    "        print(\"\\n\\t\",year, \" is not a leap year.\")\n",
    "        tryagain()\n",
    "\n",
    "\n",
    "    elif year % 4 == 0:  # This means year is divisible by 4.\n",
    "        leap = True\n",
    "        print(\"\\n\\t\",year, \" is a leap year.\")\n",
    "        tryagain()\n",
    "    else:\n",
    "        leap = False\n",
    "        print(\"\\n\\t\",year, \" is not a leap year.\")\n",
    "        tryagain()\n",
    "\n",
    "    #return leap\n",
    "\n",
    "\n",
    "def is_leap():\n",
    "\n",
    "    year = input(\"Enter a valid 4-digits year : \")\n",
    "\n",
    "    while True:\n",
    "\n",
    "        try:\n",
    "            year = int(year)\n",
    "            if year <= 9999 and year >= 1000:\n",
    "\n",
    "                check_year(year)\n",
    "\n",
    "            elif year > 9999:\n",
    "                print(\"The entered year is greater than 4-digits\")\n",
    "                try:\n",
    "                    year =  int(input(\"Try Entering a valid year :\"))\n",
    "                    if year > 9999:\n",
    "                        print(\" >> Not a valid year\")\n",
    "                        tryagain()\n",
    "                    elif year < 1000:\n",
    "                        print(\" >> Not a valid year\")\n",
    "                        tryagain()\n",
    "                    else:\n",
    "                        check_year(year)\n",
    "                except ValueError as e:\n",
    "                    print(e)\n",
    "                    exit(\" >>> This is not a valid input\")\n",
    "                    tryagain()\n",
    "\n",
    "            elif year < 1000:\n",
    "                print(\"The entered year is lesser than 4-digits\")\n",
    "                try:\n",
    "                    year = int(input(\"Try Entering a valid year : \"))\n",
    "                    if year > 9999:\n",
    "                        print(\" >> Not a valid year\")\n",
    "                        tryagain()\n",
    "                    elif year < 1000:\n",
    "                        print(\" >> Not a valid year\")\n",
    "                        tryagain()\n",
    "                    else:\n",
    "                        check_year(year)\n",
    "\n",
    "\n",
    "                except ValueError as e:\n",
    "                    print(e)\n",
    "                    exit(\" >>> This is not a valid input\")\n",
    "                    tryagain()\n",
    "\n",
    "        except ValueError as e:\n",
    "            print(e)\n",
    "            exit(\" >>> This is not a valid input\")\n",
    "            tryagain()\n",
    "\n",
    "def tryagain():\n",
    "    print(\" \\n Want to try again ??\")\n",
    "    again = input(\"Enter 'Y' to continue and 'N' to exit : \")\n",
    "\n",
    "    if (again == 'Y' or again == 'y'):\n",
    "        is_leap()\n",
    "\n",
    "    elif (again == 'N' or again == 'n'):\n",
    "        exit(\"Exiting... \\t Thank you !\")\n",
    "\n",
    "    else:\n",
    "        print(\"Invalid Input\")\n",
    "        tryagain()\n",
    "\n",
    "\n",
    "is_leap()  # Function Calling\n",
    "\n",
    "#Program By Sarthak Sahani"
   ]
  },
  {
   "cell_type": "code",
   "execution_count": null,
   "id": "5e0b8b8e",
   "metadata": {},
   "outputs": [],
   "source": []
  }
 ],
 "metadata": {
  "kernelspec": {
   "display_name": "Python 3",
   "language": "python",
   "name": "python3"
  },
  "language_info": {
   "codemirror_mode": {
    "name": "ipython",
    "version": 3
   },
   "file_extension": ".py",
   "mimetype": "text/x-python",
   "name": "python",
   "nbconvert_exporter": "python",
   "pygments_lexer": "ipython3",
   "version": "3.8.8"
  }
 },
 "nbformat": 4,
 "nbformat_minor": 5
}
