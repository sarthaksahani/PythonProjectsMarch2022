{
 "cells": [
  {
   "cell_type": "markdown",
   "id": "03d5c574",
   "metadata": {},
   "source": [
    "## [2] Converting image to PDF File:"
   ]
  },
  {
   "cell_type": "markdown",
   "id": "0c44c7a4",
   "metadata": {},
   "source": [
    "For this, we need to install a library named : \"Img2PDF\""
   ]
  },
  {
   "cell_type": "code",
   "execution_count": 4,
   "id": "966cf19c",
   "metadata": {},
   "outputs": [
    {
     "name": "stdout",
     "output_type": "stream",
     "text": [
      "Requirement already satisfied: img2pdf in c:\\users\\srkay\\anaconda3\\lib\\site-packages (0.4.3)\n",
      "Requirement already satisfied: Pillow in c:\\users\\srkay\\anaconda3\\lib\\site-packages (from img2pdf) (8.2.0)\n",
      "Requirement already satisfied: pikepdf in c:\\users\\srkay\\anaconda3\\lib\\site-packages (from img2pdf) (5.1.0)\n",
      "Requirement already satisfied: lxml>=4.0 in c:\\users\\srkay\\anaconda3\\lib\\site-packages (from pikepdf->img2pdf) (4.6.3)\n",
      "Requirement already satisfied: packaging>=20 in c:\\users\\srkay\\anaconda3\\lib\\site-packages (from pikepdf->img2pdf) (20.9)\n",
      "Requirement already satisfied: pyparsing>=2.0.2 in c:\\users\\srkay\\anaconda3\\lib\\site-packages (from packaging>=20->pikepdf->img2pdf) (2.4.7)\n"
     ]
    }
   ],
   "source": [
    "#Installing Img2pdf library via JupyterNotebpook\n",
    "\n",
    "!pip install img2pdf"
   ]
  },
  {
   "cell_type": "code",
   "execution_count": 2,
   "id": "d64d12a1",
   "metadata": {},
   "outputs": [
    {
     "name": "stderr",
     "output_type": "stream",
     "text": [
      "Image contains an alpha channel which will be stored as a separate soft mask (/SMask) image in PDF.\n"
     ]
    },
    {
     "name": "stdout",
     "output_type": "stream",
     "text": [
      "Successfully Converted image file to Pdf file\n"
     ]
    }
   ],
   "source": [
    "# Python3 program to convert image to PDF file\n",
    "# using img2pdf library -- Install this library to use this program\n",
    "\n",
    "# importing necessary libraries\n",
    "import img2pdf\n",
    "from PIL import Image\n",
    "import os\n",
    "\n",
    "# storing image path\n",
    "img_path = \"C:/Users/SRkay/Downloads/hanumanposter.PNG\" #Here Give proper path of your file\n",
    "\n",
    "# storing pdf path -- Here Give name and destination path of your converted\n",
    "pdf_path = \"C:/Users/SRkay/Downloads/hanumanposter.pdf\" \n",
    "\n",
    "# opening image\n",
    "image = Image.open(img_path)\n",
    "\n",
    "# converting into chunks using img2pdf\n",
    "pdf_bytes = img2pdf.convert(image.filename)\n",
    "\n",
    "# opening or creating pdf file\n",
    "file = open(pdf_path, \"wb\")\n",
    "\n",
    "# writing pdf files with chunks\n",
    "file.write(pdf_bytes)\n",
    "\n",
    "# closing image file\n",
    "image.close()\n",
    "\n",
    "# closing pdf file\n",
    "file.close()\n",
    "\n",
    "# output\n",
    "print(\"Successfully Converted image file to Pdf file\")\n"
   ]
  },
  {
   "cell_type": "code",
   "execution_count": null,
   "id": "949f1e14",
   "metadata": {},
   "outputs": [],
   "source": []
  }
 ],
 "metadata": {
  "kernelspec": {
   "display_name": "Python 3",
   "language": "python",
   "name": "python3"
  },
  "language_info": {
   "codemirror_mode": {
    "name": "ipython",
    "version": 3
   },
   "file_extension": ".py",
   "mimetype": "text/x-python",
   "name": "python",
   "nbconvert_exporter": "python",
   "pygments_lexer": "ipython3",
   "version": "3.8.8"
  }
 },
 "nbformat": 4,
 "nbformat_minor": 5
}
